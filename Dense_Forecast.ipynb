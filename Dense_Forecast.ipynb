{
 "cells": [
  {
   "cell_type": "code",
   "execution_count": 1,
   "metadata": {},
   "outputs": [
    {
     "name": "stderr",
     "output_type": "stream",
     "text": [
      "Using TensorFlow backend.\n"
     ]
    }
   ],
   "source": [
    "import warnings\n",
    "warnings.filterwarnings('ignore')\n",
    "from numpy import array\n",
    "from keras.models import Sequential\n",
    "from keras.layers import RepeatVector, Dense, Flatten, LSTM, TimeDistributed, Dropout,Input, GRU\n",
    "from keras.preprocessing.sequence import TimeseriesGenerator\n",
    "import matplotlib.pyplot as plt\n",
    "import pandas as pd\n",
    "import numpy as np\n",
    "from scipy import signal\n",
    "from scipy.signal import savgol_filter"
   ]
  },
  {
   "cell_type": "code",
   "execution_count": 2,
   "metadata": {},
   "outputs": [],
   "source": [
    "def resample_1(serie_to_predict):\n",
    "    hall = []\n",
    "    for i in range(1):\n",
    "        #print(i)\n",
    "        dividendo = (serie_to_predict[i+1]-serie_to_predict[i])/int(len(serie_to_predict)-1)\n",
    "        if dividendo == 0:\n",
    "            x1=[serie_to_predict[i]]\n",
    "            range_1 = np.repeat(x1,10)\n",
    "        else:\n",
    "            range_1 = np.arange(serie_to_predict[i], serie_to_predict[i+1], dividendo).tolist()\n",
    "    #hall = []\n",
    "    for i in range(int(len(serie_to_predict)-2)):\n",
    "        #print(i)\n",
    "        dividendo = (serie_to_predict[i+2] - serie_to_predict[i+1])/int(len(serie_to_predict)-1)\n",
    "        if dividendo == 0:\n",
    "            x1=[serie_to_predict[i+1]]\n",
    "            range_2 = np.repeat(x1,10)\n",
    "        else:\n",
    "            range_2 = np.arange(serie_to_predict[i+1], serie_to_predict[i+2], dividendo).tolist()\n",
    "        hall.append(range_2)        \n",
    "    flat_list = [item for sublist in hall for item in sublist]\n",
    "    total = range_1 + flat_list\n",
    "    total.append(serie_to_predict[-1])\n",
    "    window = 11 \n",
    "    total_1 = savgol_filter(total, window, 3) \n",
    "    return total_1"
   ]
  },
  {
   "cell_type": "code",
   "execution_count": 3,
   "metadata": {},
   "outputs": [],
   "source": [
    "#=============================================================\n",
    "#filename = \"anomaly_data_1880_2020_goddard_150.csv\"\n",
    "#goddard_series = pd.read_csv(filename)\n",
    "#goddard_series = goddard_series.dropna()['Goddard'] \n",
    "#goddard_series = goddard_series.values\n",
    "#=============================================================\n",
    "filename = \"solar_irradiance_1880_2020.csv\"\n",
    "goddard_series = pd.read_csv(filename)\n",
    "goddard_series = goddard_series.dropna()['Wm2'] \n",
    "goddard_series = goddard_series.values"
   ]
  },
  {
   "cell_type": "code",
   "execution_count": 4,
   "metadata": {},
   "outputs": [
    {
     "name": "stdout",
     "output_type": "stream",
     "text": [
      "131\n"
     ]
    }
   ],
   "source": [
    "series = goddard_series[:-10]\n",
    "print(len(series))"
   ]
  },
  {
   "cell_type": "code",
   "execution_count": 5,
   "metadata": {},
   "outputs": [],
   "source": [
    "size_forecast = 10\n",
    "n_input = 10\n",
    "generator = TimeseriesGenerator(series, series, length=n_input, batch_size=8)\n",
    "\n",
    "# define model\n",
    "model = Sequential()\n",
    "model.add(Dense(100, activation='relu', input_dim=n_input))\n",
    "model.add(Dense(1))\n",
    "model.compile(optimizer='adam', loss='mse')\n",
    "# fit model\n",
    "epochs=150\n",
    "steps = 15\n",
    "#history = model.fit_generator(generator, steps_per_epoch=1, epochs=epochs, verbose=0)\n",
    "history = model.fit_generator(generator, steps_per_epoch = steps, epochs=epochs, verbose=0)"
   ]
  },
  {
   "cell_type": "code",
   "execution_count": 6,
   "metadata": {},
   "outputs": [
    {
     "data": {
      "image/png": "[encoded data removed]",
      "text/plain": [
       "<Figure size 360x360 with 1 Axes>"
      ]
     },
     "metadata": {
      "needs_background": "light"
     },
     "output_type": "display_data"
    }
   ],
   "source": [
    "# Plot training & validation loss values\n",
    "fig, ax = plt.subplots(figsize=(5, 5), sharex=True)\n",
    "plt.plot(history.history[\"loss\"])\n",
    "plt.title(\"Model loss\")\n",
    "plt.ylabel(\"Loss\")\n",
    "plt.xlabel(\"Epoch\")\n",
    "ax.xaxis.set_major_locator(plt.MaxNLocator(epochs))\n",
    "plt.legend([\"Train\", \"Test\"], loc=\"upper left\")\n",
    "plt.grid()\n",
    "plt.show()"
   ]
  },
  {
   "cell_type": "code",
   "execution_count": 7,
   "metadata": {},
   "outputs": [
    {
     "name": "stdout",
     "output_type": "stream",
     "text": [
      "[1360.8125 1361.     1361.0625 1361.0625 1361.125  1360.625  1360.4375\n",
      " 1360.4062 1360.3906 1360.375 ]\n",
      "[1361.125  1361.5    1361.3125 1361.0625 1360.8125 1360.6875 1360.625\n",
      " 1360.4375 1360.375  1360.625 ]\n",
      "[[1360.0121]]\n"
     ]
    }
   ],
   "source": [
    "# make a one step prediction out of sample\n",
    "print(goddard_series[-10:])\n",
    "serie_input = goddard_series[-20:-10]\n",
    "print(serie_input)\n",
    "x_input = serie_input.reshape((1, n_input))\n",
    "yhat = model.predict(x_input, verbose=0)\n",
    "print(yhat)"
   ]
  },
  {
   "cell_type": "code",
   "execution_count": 8,
   "metadata": {},
   "outputs": [],
   "source": [
    "list1 = yhat[0].tolist()\n",
    "answer = str(round(list1[0], 2))\n",
    "a_list = np.append(goddard_series[-9:], answer)\n",
    "x_input = a_list.reshape((1, n_input))\n",
    "yhat = model.predict(x_input, verbose=0)\n",
    "list1 = yhat[0].tolist()"
   ]
  },
  {
   "cell_type": "code",
   "execution_count": 9,
   "metadata": {},
   "outputs": [],
   "source": [
    "for i in range(9):\n",
    "    list1 = yhat[0].tolist()\n",
    "    answer = str(round(list1[0], 2))\n",
    "    a_list = np.append(a_list[-9:], answer)\n",
    "    x_input = a_list.reshape((1, n_input))\n",
    "    yhat = model.predict(x_input, verbose=0)\n",
    "    list1 = yhat[0].tolist()"
   ]
  },
  {
   "cell_type": "code",
   "execution_count": 10,
   "metadata": {},
   "outputs": [],
   "source": [
    "s_prediction = []\n",
    "a1 = goddard_series[-int(size_forecast+1)]\n",
    "for i in range(int(size_forecast)):\n",
    "    bond = float(a_list[i])\n",
    "    s_prediction.append(bond)\n",
    "s_prediction.insert(0, goddard_series[-int(size_forecast+1)])"
   ]
  },
  {
   "cell_type": "code",
   "execution_count": 11,
   "metadata": {},
   "outputs": [],
   "source": [
    "beta = s_prediction\n",
    "alpha = goddard_series[-11:].tolist()"
   ]
  },
  {
   "cell_type": "code",
   "execution_count": 12,
   "metadata": {},
   "outputs": [
    {
     "name": "stdout",
     "output_type": "stream",
     "text": [
      "[1360.625, 1360.8125, 1361.0, 1361.0625, 1361.0625, 1361.125, 1360.625, 1360.4375, 1360.4062, 1360.3906, 1360.375]\n",
      "11\n",
      "[1360.625, 1360.01, 1359.74, 1359.57, 1359.41, 1359.3, 1359.13, 1358.94, 1358.77, 1358.59, 1358.44]\n",
      "11\n"
     ]
    }
   ],
   "source": [
    "print(alpha)\n",
    "print(len(alpha))\n",
    "print(beta)\n",
    "print(len(beta))"
   ]
  },
  {
   "cell_type": "code",
   "execution_count": 13,
   "metadata": {},
   "outputs": [
    {
     "name": "stdout",
     "output_type": "stream",
     "text": [
      "11\n",
      "101\n"
     ]
    },
    {
     "data": {
      "image/png": "[encoded data removed]",
      "text/plain": [
       "<Figure size 576x288 with 1 Axes>"
      ]
     },
     "metadata": {
      "needs_background": "light"
     },
     "output_type": "display_data"
    }
   ],
   "source": [
    "prediction_resampled = resample_1(beta)\n",
    "real_anomaly_resampled = resample_1(alpha)\n",
    "fig, ax = plt.subplots(figsize=(8,4))\n",
    "e=list(range(len(prediction_resampled)))\n",
    "e = [x/10 for x in e]\n",
    "e = [x + (2010) for x in e]\n",
    "ax.plot(e, real_anomaly_resampled)\n",
    "ax.plot(e, prediction_resampled)\n",
    "ax.set_xlabel('Years')\n",
    "ax.set_ylabel('Temperature Anomaly (°C)');\n",
    "ax.legend(['Real Anomaly','Simple Prediction'], loc='upper left')\n",
    "ax.grid()\n",
    "print(len(beta))\n",
    "print(len(prediction_resampled))"
   ]
  },
  {
   "cell_type": "code",
   "execution_count": 14,
   "metadata": {},
   "outputs": [],
   "source": [
    "#np.savetxt('anomaly_predicted_dense.csv',prediction_resampled, delimiter=',', header=str('temperature'), comments=\"\")"
   ]
  },
  {
   "cell_type": "code",
   "execution_count": null,
   "metadata": {},
   "outputs": [],
   "source": []
  }
 ],
 "metadata": {
  "kernelspec": {
   "display_name": "Python 3",
   "language": "python",
   "name": "python3"
  },
  "language_info": {
   "codemirror_mode": {
    "name": "ipython",
    "version": 3
   },
   "file_extension": ".py",
   "mimetype": "text/x-python",
   "name": "python",
   "nbconvert_exporter": "python",
   "pygments_lexer": "ipython3",
   "version": "3.7.6"
  }
 },
 "nbformat": 4,
 "nbformat_minor": 4
}
