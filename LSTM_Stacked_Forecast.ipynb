{
 "cells": [
  {
   "cell_type": "code",
   "execution_count": 1,
   "metadata": {},
   "outputs": [
    {
     "name": "stderr",
     "output_type": "stream",
     "text": [
      "Using TensorFlow backend.\n"
     ]
    }
   ],
   "source": [
    "import warnings\n",
    "warnings.filterwarnings('ignore')\n",
    "from numpy import array\n",
    "from keras.models import Sequential\n",
    "from keras.layers import RepeatVector, Dense, Flatten, LSTM, TimeDistributed, Dropout,Input, GRU\n",
    "from keras.preprocessing.sequence import TimeseriesGenerator\n",
    "from sklearn.metrics import mean_squared_error, mean_absolute_error\n",
    "from math import sqrt\n",
    "import matplotlib.pyplot as plt\n",
    "import pandas as pd\n",
    "import numpy as np\n",
    "from scipy import signal\n",
    "from scipy.signal import savgol_filter\n",
    "import scipy.stats as stats\n",
    "import seaborn as sns\n",
    "from scipy import signal\n",
    "from scipy.fft import fft, fftfreq\n",
    "from scipy import fftpack"
   ]
  },
  {
   "cell_type": "code",
   "execution_count": 2,
   "metadata": {},
   "outputs": [],
   "source": [
    "#main idea from:\n",
    "#https://machinelearningmastery.com/how-to-use-the-timeseriesgenerator-for-time-series-forecasting-in-keras/"
   ]
  },
  {
   "cell_type": "code",
   "execution_count": 3,
   "metadata": {},
   "outputs": [],
   "source": [
    "def error_metric(real,forecast):\n",
    "    mse_val = mean_squared_error(real,forecast)\n",
    "    rmse_val = sqrt(mse_val)\n",
    "    mae_val = mean_absolute_error(real,forecast)\n",
    "    return(mse_val,rmse_val,mae_val)"
   ]
  },
  {
   "cell_type": "code",
   "execution_count": 4,
   "metadata": {},
   "outputs": [],
   "source": [
    "def resample_1(serie_to_predict):\n",
    "    \n",
    "    for i in range(1):\n",
    "        #print(i)\n",
    "        dividendo = (serie_to_predict[i+1]-serie_to_predict[i])/int(len(serie_to_predict)-1)\n",
    "        if dividendo == 0:\n",
    "            x1=[serie_to_predict[i]]\n",
    "            range_1 = np.repeat(x1,10)\n",
    "        else:\n",
    "            range_1 = np.arange(serie_to_predict[i], serie_to_predict[i+1], dividendo).tolist()\n",
    "    hall = []\n",
    "    for i in range(int(len(serie_to_predict)-2)):\n",
    "        #print(i)\n",
    "        dividendo = (serie_to_predict[i+2] - serie_to_predict[i+1])/int(len(serie_to_predict)-1)\n",
    "        if dividendo == 0:\n",
    "            x1=[serie_to_predict[i+1]]\n",
    "            range_2 = np.repeat(x1,10)\n",
    "        else:\n",
    "            range_2 = np.arange(serie_to_predict[i+1], serie_to_predict[i+2], dividendo).tolist()\n",
    "        hall.append(range_2)        \n",
    "    flat_list = [item for sublist in hall for item in sublist]\n",
    "    total = range_1 + flat_list\n",
    "    total.append(serie_to_predict[-1])\n",
    "    window = 11 \n",
    "    total_1 = savgol_filter(total, window, 3) \n",
    "    return total_1"
   ]
  },
  {
   "cell_type": "code",
   "execution_count": 5,
   "metadata": {},
   "outputs": [],
   "source": [
    "def forecasted(entrance, size_forecast, n_input, n_features, epochs, steps, L1, L2, drop_out):\n",
    "    series = entrance[:-size_forecast]\n",
    "    series = series.reshape((len(series), n_features))\n",
    "    # define generator\n",
    "    generator = TimeseriesGenerator(series, series, length=n_input, batch_size=8)\n",
    "    model=Sequential()\n",
    "    model.add(LSTM(L1,activation='relu',input_shape=(n_input, n_features),return_sequences=True)) \n",
    "    model.add(Dropout(drop_out))\n",
    "    model.add(LSTM(L2,activation='relu'))\n",
    "    model.add(Dense(1))\n",
    "    #model.add(Dense(1, activation='relu'))\n",
    "    model.compile(optimizer='adam', loss='mse')\n",
    "    # fit model\n",
    "    #epochs=150\n",
    "    #steps = 5 #10\n",
    "    #history = model.fit_generator(generator, steps_per_epoch=1, epochs=epochs, verbose=0)\n",
    "    history = model.fit_generator(generator, steps_per_epoch = steps, epochs=epochs, verbose=0)\n",
    "    # Plot training & validation loss values\n",
    "    fig, ax = plt.subplots(figsize=(5, 5), sharex=True)\n",
    "    plt.plot(history.history[\"loss\"])\n",
    "    plt.title(\"Model loss\")\n",
    "    plt.ylabel(\"Loss\")\n",
    "    plt.xlabel(\"Epoch\")\n",
    "    ax.xaxis.set_major_locator(plt.MaxNLocator(epochs))\n",
    "    plt.legend([\"Train\", \"Test\"], loc=\"upper left\")\n",
    "    plt.grid()\n",
    "    plt.show()\n",
    "    # make a one step prediction out of sample\n",
    "    #print(entrance[-size_forecast:])\n",
    "    serie_input = entrance[-2*size_forecast:-size_forecast]\n",
    "    #n_features = 1\n",
    "    x_input = serie_input.reshape((1, n_input, n_features))\n",
    "    #print(serie_input)\n",
    "    yhat = model.predict(x_input, verbose=0)\n",
    "    #print(yhat)\n",
    "    list1 = yhat[0].tolist()\n",
    "    answer = str(round(list1[0], 2))\n",
    "    a_list = np.append(entrance[-int(size_forecast-1):], answer)\n",
    "    x_input = a_list.reshape((1, n_input, n_features))\n",
    "    yhat = model.predict(x_input, verbose=0)\n",
    "    list1 = yhat[0].tolist()\n",
    "    for i in range(int(size_forecast-(1))):\n",
    "        list1 = yhat[0].tolist()\n",
    "        answer = str(round(list1[0], 2))\n",
    "        a_list = np.append(a_list[-int(size_forecast-1):], answer)\n",
    "        x_input = a_list.reshape((1, n_input, n_features))\n",
    "        yhat = model.predict(x_input, verbose=0)\n",
    "        list1 = yhat[0].tolist()\n",
    "    ausgang = []\n",
    "    a1 = entrance[-int(size_forecast+1)]\n",
    "    for i in range(int(size_forecast)):\n",
    "        bond = float(a_list[i])\n",
    "        ausgang.append(bond)\n",
    "    ausgang.insert(0, entrance[-int(size_forecast+1)])\n",
    "    #print(ausgang)\n",
    "    return ausgang"
   ]
  },
  {
   "cell_type": "code",
   "execution_count": 6,
   "metadata": {},
   "outputs": [],
   "source": [
    "#filename = \"anomaly_data_1880_2020_goddard_150.csv\"\n",
    "#goddard_series = pd.read_csv(filename)\n",
    "#goddard_series = goddard_series.dropna()['Goddard'] \n",
    "#goddard_series = goddard_series.values\n",
    "#=============================================================\n",
    "filename = \"solar_irradiance_1880_2020.csv\"\n",
    "goddard_series = pd.read_csv(filename)\n",
    "goddard_series = goddard_series.dropna()['Wm2'] \n",
    "goddard_series = goddard_series.values"
   ]
  },
  {
   "cell_type": "code",
   "execution_count": 7,
   "metadata": {},
   "outputs": [
    {
     "data": {
      "image/png": "[encoded data removed]",
      "text/plain": [
       "<Figure size 360x360 with 1 Axes>"
      ]
     },
     "metadata": {
      "needs_background": "light"
     },
     "output_type": "display_data"
    }
   ],
   "source": [
    "size_forecast = 10 # 10 para \"anomaly_data_1880_2020_goddard_150.csv\"\n",
    "n_input = 10 # 10 para \"anomaly_data_1880_2020_goddard_150.csv\"\n",
    "n_features = 1\n",
    "epochs=150\n",
    "steps = 20 #10\n",
    "L1 = 150\n",
    "L2 = 150\n",
    "drop_out = 0.3\n",
    "prediction_base = forecasted(goddard_series, size_forecast, n_input, n_features, epochs, steps, L1, L2, drop_out)"
   ]
  },
  {
   "cell_type": "code",
   "execution_count": null,
   "metadata": {},
   "outputs": [],
   "source": []
  },
  {
   "cell_type": "code",
   "execution_count": 8,
   "metadata": {},
   "outputs": [
    {
     "data": {
      "image/png": "[encoded data removed]",
      "text/plain": [
       "<Figure size 576x288 with 1 Axes>"
      ]
     },
     "metadata": {
      "needs_background": "light"
     },
     "output_type": "display_data"
    }
   ],
   "source": [
    "prediction_base_resampled = resample_1(prediction_base)\n",
    "goddard_series_base = goddard_series[-int(size_forecast+1):].tolist()\n",
    "real_anomaly_base_resampled = resample_1(goddard_series_base)\n",
    "fig, ax = plt.subplots(figsize=(8,4))\n",
    "e=list(range(len(real_anomaly_base_resampled)))\n",
    "e = [x/10 for x in e]\n",
    "e = [x + (2010) for x in e]\n",
    "ax.plot(e, real_anomaly_base_resampled)\n",
    "ax.plot(e, prediction_base_resampled)\n",
    "ax.set_xlabel('Years')\n",
    "ax.set_ylabel('Temperature Anomaly (°C)');\n",
    "ax.legend(['Real Anomaly','Simple Prediction'], loc='upper left')\n",
    "ax.grid()"
   ]
  },
  {
   "cell_type": "code",
   "execution_count": 9,
   "metadata": {},
   "outputs": [],
   "source": [
    "#np.savetxt('anomaly_predicted_stacked_lstm.csv',prediction_resampled, delimiter=',', header=str('temperature'), comments=\"\")"
   ]
  },
  {
   "cell_type": "code",
   "execution_count": null,
   "metadata": {},
   "outputs": [],
   "source": []
  }
 ],
 "metadata": {
  "kernelspec": {
   "display_name": "Python 3",
   "language": "python",
   "name": "python3"
  },
  "language_info": {
   "codemirror_mode": {
    "name": "ipython",
    "version": 3
   },
   "file_extension": ".py",
   "mimetype": "text/x-python",
   "name": "python",
   "nbconvert_exporter": "python",
   "pygments_lexer": "ipython3",
   "version": "3.7.6"
  }
 },
 "nbformat": 4,
 "nbformat_minor": 4
}
